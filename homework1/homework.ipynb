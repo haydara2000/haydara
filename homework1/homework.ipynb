{
 "cells": [
  {
   "cell_type": "code",
   "execution_count": 2,
   "id": "2251323c",
   "metadata": {},
   "outputs": [
    {
     "name": "stdout",
     "output_type": "stream",
     "text": [
      "{'HTTP': 80, 'HTTPS': 443, 'FTP': 21, 'DNS': 53}\n"
     ]
    }
   ],
   "source": [
    "l1=['HTTP','HTTPS','FTP','DNS']\n",
    "l2=[80,443,21,53]\n",
    "d=dict(zip(l1,l2))\n",
    "print(d)\n"
   ]
  },
  {
   "cell_type": "code",
   "execution_count": 3,
   "id": "8cead1a4",
   "metadata": {},
   "outputs": [
    {
     "name": "stdout",
     "output_type": "stream",
     "text": [
      "inter any number to calculate the factorial number:5\n",
      "120\n"
     ]
    }
   ],
   "source": [
    "x=int(input(\"enter a positive number to calculate the factorial number:\"))\n",
    "r=1\n",
    "for y in range(1,x+1):\n",
    "    r=r*y\n",
    "print(r)"
   ]
  },
  {
   "cell_type": "code",
   "execution_count": 21,
   "id": "5741b08c",
   "metadata": {},
   "outputs": [
    {
     "name": "stdout",
     "output_type": "stream",
     "text": [
      "Bio\n"
     ]
    }
   ],
   "source": [
    "l=['Network','Bio','Programing','Physics','Music']\n",
    "\n",
    "for i in range(len(l)):\n",
    "    if l[i].startswith('B')==True:\n",
    "        print(l[i])"
   ]
  },
  {
   "cell_type": "code",
   "execution_count": 28,
   "id": "e1a2b0cc",
   "metadata": {},
   "outputs": [
    {
     "name": "stdout",
     "output_type": "stream",
     "text": [
      "d= {0: 1, 1: 2, 2: 3, 3: 4, 4: 5, 5: 6, 6: 7, 7: 8, 8: 9, 9: 10, 10: 11}\n"
     ]
    }
   ],
   "source": [
    "d={x:x+1 for x in range(11)}\n",
    "print ('d=',d)"
   ]
  },
  {
   "cell_type": "code",
   "execution_count": 1,
   "id": "2ebcbaab",
   "metadata": {},
   "outputs": [
    {
     "name": "stdout",
     "output_type": "stream",
     "text": [
      "enter a Binary number:110\n",
      "the equivalent Decimal number is: 6\n"
     ]
    }
   ],
   "source": [
    "x=input('enter a Binary number:')\n",
    "m=len(x)\n",
    "n=m-1\n",
    "y=0\n",
    "b2d=0\n",
    "for i in x:\n",
    "    y=int(i)*2**n\n",
    "    b2d=b2d+y\n",
    "    n-=1\n",
    "print('the equivalent Decimal number is:',b2d)"
   ]
  },
  {
   "cell_type": "code",
   "execution_count": 2,
   "id": "49a1542e",
   "metadata": {},
   "outputs": [
    {
     "name": "stdout",
     "output_type": "stream",
     "text": [
      "the current balance is: 1000.0\n",
      "the current balance is: 2000.0\n",
      "the current balance is: 1500.0\n",
      "1500.0\n",
      "the current balance is:1500.0\n",
      "the current balance is:2525.0 for the interest rate is:0.01\n"
     ]
    }
   ],
   "source": [
    "class BankAccount():\n",
    "    balance=0.0\n",
    "    def __init__(self,account_number,account_holder,amount):\n",
    "        self._account_number=account_number\n",
    "        self._account_holder=account_holder\n",
    "        self._amount=amount\n",
    "        BankAccount.balance=BankAccount.balance+float(amount)\n",
    "    def deposit(self,amount):\n",
    "        self._amount=amount\n",
    "        BankAccount.balance=BankAccount.balance+float(amount)\n",
    "        print(\"the current balance is:\",BankAccount.get_balance())\n",
    "    def withdraw(self,amount):\n",
    "        self._amount=amount\n",
    "        BankAccount.balance=BankAccount.balance-float(amount)\n",
    "        print(\"the current balance is:\",BankAccount.balance)\n",
    "    @classmethod\n",
    "    def get_balance(cls):\n",
    "        return cls.balance\n",
    "    def info(self):\n",
    "        print(f\"the current balance is:{BankAccount.get_balance()}\")\n",
    "    \n",
    "class SavingAccount(BankAccount):\n",
    "    interest_rate=0.01\n",
    "    def __init__(self,account_number,account_holder,amount):\n",
    "        super().__init__(account_number,account_holder,amount)\n",
    "        \n",
    "    def apply_interest(self):\n",
    "        return(self.interest_rate*self.balance)\n",
    "    def info(self):\n",
    "        print(f\"the current balance is:{self.balance+self.apply_interest()} for the interest rate is:{SavingAccount.interest_rate}\")\n",
    "   \n",
    "\n",
    "account1=BankAccount('2701','haydara',1000.0)\n",
    "print(\"the current balance is:\",BankAccount.balance)\n",
    "account1.deposit(1000)\n",
    "account1.withdraw(500)\n",
    "print(BankAccount.get_balance())\n",
    "account1.info()\n",
    "account2=SavingAccount('2701','haydara',1000.0)\n",
    "account2.info()"
   ]
  },
  {
   "cell_type": "code",
   "execution_count": 20,
   "id": "6a14f21b",
   "metadata": {},
   "outputs": [
    {
     "name": "stdout",
     "output_type": "stream",
     "text": [
      "enter your name:haydara\n",
      "question1: 5+5 ?\n",
      "your answer:10\n",
      "question2: 6+9 ?\n",
      "your answer:15\n",
      "question3: 12*2 ?\n",
      "your answer:24\n",
      "question4: 15*3/9 ?\n",
      "your answer:4\n",
      "question5: sin(30)+(1/2) ?\n",
      "your answer:4\n",
      "question6: 2+8/2^3*2-1 ?\n",
      "your answer:4\n",
      "question7: 8/2 ?\n",
      "your answer:4\n",
      "question8: 1/3*3+1/3*3+1/3*3 ?\n",
      "your answer:4\n",
      "question9: (sin(a))^2+(cos(a))^2 ?\n",
      "your answer:4\n",
      "question10: 5*5 ?\n",
      "your answer:4\n",
      "question11: (5*5+5*5)/(5+5) ?\n",
      "your answer:4\n",
      "question12: (9%7)*5 ?\n",
      "your answer:4\n",
      "question13: 0.1*0.1 ?\n",
      "your answer:4\n",
      "question14: Damascus is capital of syria (yes or no) ?\n",
      "your answer:4\n",
      "question15: Banias is a city on a syrian coast (yes or no)?\n",
      "your answer:4\n",
      "question16: 7*7 ?\n",
      "your answer:4\n",
      "question17: (-1.659)>(-1.658) (yes or no)?\n",
      "your answer:4\n",
      "question18: 5*5 ?\n",
      "your answer:4\n",
      "question19: 5*5 ?\n",
      "your answer:4\n",
      "question20: 5*5 ?\n",
      "your answer:4\n",
      "{'haydara': 0}\n"
     ]
    }
   ],
   "source": [
    "questions={}\n",
    "import json\n",
    "\n",
    "quiz=open('D:\\\\quiz.json','r')\n",
    "questions=json.load(quiz)\n",
    "quiz.close()\n",
    "\n",
    "result=0\n",
    "\n",
    "name=input(\"enter your name:\")\n",
    "\n",
    "for i in questions.keys():\n",
    "    print(i)\n",
    "    answer=input(\"your answer:\")\n",
    "    if answer==questions[i]:\n",
    "        result+=1\n",
    "\n",
    "your_result={name:result}\n",
    "file2=open('D:\\\\result.json','w')\n",
    "json.dump(your_result,file2)\n",
    "file2.close()\n",
    "print(your_result)"
   ]
  },
  {
   "cell_type": "code",
   "execution_count": null,
   "id": "e3c2c2fe",
   "metadata": {},
   "outputs": [],
   "source": []
  }
 ],
 "metadata": {
  "kernelspec": {
   "display_name": "Python 3 (ipykernel)",
   "language": "python",
   "name": "python3"
  },
  "language_info": {
   "codemirror_mode": {
    "name": "ipython",
    "version": 3
   },
   "file_extension": ".py",
   "mimetype": "text/x-python",
   "name": "python",
   "nbconvert_exporter": "python",
   "pygments_lexer": "ipython3",
   "version": "3.10.9"
  }
 },
 "nbformat": 4,
 "nbformat_minor": 5
}
